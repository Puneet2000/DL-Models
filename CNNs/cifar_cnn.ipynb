{
 "cells": [
  {
   "cell_type": "code",
   "execution_count": 4,
   "metadata": {},
   "outputs": [
    {
     "name": "stdout",
     "output_type": "stream",
     "text": [
      "True\n"
     ]
    }
   ],
   "source": [
    "import torch\n",
    "import torchvision\n",
    "import os\n",
    "import numpy as np\n",
    "import torchvision.transforms as transforms\n",
    "root = './data'\n",
    "if not os.path.exists(root):\n",
    "    os.mkdir(root)\n",
    "use_cuda = torch.cuda.is_available()\n",
    "print(use_cuda)"
   ]
  },
  {
   "cell_type": "code",
   "execution_count": 54,
   "metadata": {},
   "outputs": [
    {
     "name": "stdout",
     "output_type": "stream",
     "text": [
      "Files already downloaded and verified\n",
      "Files already downloaded and verified\n",
      "10000\n",
      "10000\n"
     ]
    }
   ],
   "source": [
    "transform = transforms.Compose([transforms.ToTensor(),transforms.Normalize((0.5,0.5,0.5),(0.5,0.5,0.5))])\n",
    "trainset = torchvision.datasets.CIFAR10(root=root, train=False,transform=transform, download=True)\n",
    "trainloader = torch.utils.data.DataLoader(trainset, batch_size=15,\n",
    "                                          shuffle=True, num_workers=2)\n",
    "testset = torchvision.datasets.CIFAR10(root=root, train=False, transform=transform, download=True)\n",
    "testloader = torch.utils.data.DataLoader(testset, batch_size=15,\n",
    "                                         shuffle=False, num_workers=2)\n",
    "classes = ('Aeroplane','automobile','bird','cat','deer','dog','frog','horse','ship','truck')\n",
    "print(len(trainset))\n",
    "print(len(testset))"
   ]
  },
  {
   "cell_type": "code",
   "execution_count": 55,
   "metadata": {},
   "outputs": [
    {
     "data": {
      "text/plain": [
       "'import matplotlib.pyplot as plt\\nimport numpy as np\\ndef imshow(img):\\n    img = img/2 + 0.5     # unnormalize\\n    npimg = img.numpy()\\n    x = np.transpose(npimg, (1, 2, 0))\\n    plt.imshow(x)\\n\\ndataiter = iter(trainloader)\\nimages, labels = dataiter.next()\\nimshow(torchvision.utils.make_grid(images))'"
      ]
     },
     "execution_count": 55,
     "metadata": {},
     "output_type": "execute_result"
    }
   ],
   "source": [
    "import numpy as np\n",
    "\"\"\"import matplotlib.pyplot as plt\n",
    "import numpy as np\n",
    "def imshow(img):\n",
    "    img = img/2 + 0.5     # unnormalize\n",
    "    npimg = img.numpy()\n",
    "    x = np.transpose(npimg, (1, 2, 0))\n",
    "    plt.imshow(x)\n",
    "\n",
    "dataiter = iter(trainloader)\n",
    "images, labels = dataiter.next()\n",
    "imshow(torchvision.utils.make_grid(images))\"\"\""
   ]
  },
  {
   "cell_type": "code",
   "execution_count": 56,
   "metadata": {},
   "outputs": [],
   "source": [
    "import torch.nn as nn\n",
    "import torch.nn.functional as F\n",
    "class CIFAR10(nn.Module):\n",
    "    def __init__(self):\n",
    "        super(CIFAR10, self).__init__()\n",
    "        self.conv1 = nn.Conv2d(3, 10, 3,1,(1,1))\n",
    "        self.conv2 = nn.Conv2d(10, 30, 3)\n",
    "        self.batch_1=nn.BatchNorm2d(30)\n",
    "        self.fc1 = nn.Linear(7*7*30, 300)\n",
    "        self.batch_2=nn.BatchNorm1d(300)\n",
    "        self.fc2 = nn.Linear(300, 100)\n",
    "        self.batch_3=nn.BatchNorm1d(100)\n",
    "        self.fc3 = nn.Linear(100, 10)\n",
    "\n",
    "    def forward(self, x):\n",
    "        x = F.relu(self.conv1(x))\n",
    "        x = F.max_pool2d(x, 2, 2)\n",
    "        x = F.relu(self.batch_1(self.conv2(x)))\n",
    "        x = F.max_pool2d(x, 2, 2)\n",
    "        x = x.view(-1, 7*7*30)\n",
    "        x = F.relu(self.fc1(x))\n",
    "        x = F.relu(self.fc2(x))\n",
    "        x = self.fc3(x)\n",
    "        return x\n",
    "    \n",
    "    def name(self):\n",
    "        return \"CIFAR10\"\n",
    "        "
   ]
  },
  {
   "cell_type": "code",
   "execution_count": 61,
   "metadata": {},
   "outputs": [],
   "source": [
    "import torch.optim as optim\n",
    "model = CIFAR10()\n",
    "model.cuda()\n",
    "optimizer = optim.Adam(model.parameters(), lr=0.003)\n",
    "criterion = nn.CrossEntropyLoss()"
   ]
  },
  {
   "cell_type": "code",
   "execution_count": 64,
   "metadata": {},
   "outputs": [
    {
     "name": "stdout",
     "output_type": "stream",
     "text": [
      "[1,   200] loss: 0.076\n",
      "[1,   400] loss: 0.085\n",
      "[1,   600] loss: 0.094\n",
      "[2,   200] loss: 0.085\n",
      "[2,   400] loss: 0.108\n",
      "[2,   600] loss: 0.169\n",
      "[3,   200] loss: 0.101\n",
      "[3,   400] loss: 0.081\n",
      "[3,   600] loss: 0.088\n",
      "[4,   200] loss: 0.065\n",
      "[4,   400] loss: 0.067\n",
      "[4,   600] loss: 0.104\n",
      "[5,   200] loss: 0.117\n",
      "[5,   400] loss: 0.113\n",
      "[5,   600] loss: 0.120\n",
      "[6,   200] loss: 0.148\n",
      "[6,   400] loss: 0.115\n",
      "[6,   600] loss: 0.114\n",
      "[7,   200] loss: 0.078\n",
      "[7,   400] loss: 0.118\n",
      "[7,   600] loss: 0.095\n",
      "[8,   200] loss: 0.088\n",
      "[8,   400] loss: 0.079\n",
      "[8,   600] loss: 0.090\n",
      "[9,   200] loss: 0.080\n",
      "[9,   400] loss: 0.092\n",
      "[9,   600] loss: 0.104\n",
      "[10,   200] loss: 0.111\n",
      "[10,   400] loss: 0.076\n",
      "[10,   600] loss: 0.109\n",
      "[11,   200] loss: 0.055\n",
      "[11,   400] loss: 0.112\n",
      "[11,   600] loss: 0.086\n",
      "[12,   200] loss: 0.090\n",
      "[12,   400] loss: 0.121\n",
      "[12,   600] loss: 0.145\n",
      "[13,   200] loss: 0.076\n",
      "[13,   400] loss: 0.069\n",
      "[13,   600] loss: 0.091\n",
      "[14,   200] loss: 0.094\n",
      "[14,   400] loss: 0.059\n",
      "[14,   600] loss: 0.106\n",
      "[15,   200] loss: 0.086\n",
      "[15,   400] loss: 0.099\n",
      "[15,   600] loss: 0.109\n",
      "[16,   200] loss: 0.068\n",
      "[16,   400] loss: 0.082\n",
      "[16,   600] loss: 0.104\n",
      "[17,   200] loss: 0.060\n",
      "[17,   400] loss: 0.109\n",
      "[17,   600] loss: 0.062\n",
      "[18,   200] loss: 0.064\n",
      "[18,   400] loss: 0.122\n",
      "[18,   600] loss: 0.112\n",
      "[19,   200] loss: 0.051\n",
      "[19,   400] loss: 0.076\n",
      "[19,   600] loss: 0.119\n",
      "[20,   200] loss: 0.140\n",
      "[20,   400] loss: 0.114\n",
      "[20,   600] loss: 0.096\n",
      "[21,   200] loss: 0.062\n",
      "[21,   400] loss: 0.065\n",
      "[21,   600] loss: 0.034\n",
      "[22,   200] loss: 0.033\n",
      "[22,   400] loss: 0.120\n",
      "[22,   600] loss: 0.103\n",
      "[23,   200] loss: 0.085\n",
      "[23,   400] loss: 0.098\n",
      "[23,   600] loss: 0.087\n",
      "[24,   200] loss: 0.055\n",
      "[24,   400] loss: 0.102\n",
      "[24,   600] loss: 0.099\n",
      "[25,   200] loss: 0.042\n",
      "[25,   400] loss: 0.086\n",
      "[25,   600] loss: 0.051\n",
      "[26,   200] loss: 0.048\n",
      "[26,   400] loss: 0.099\n",
      "[26,   600] loss: 0.065\n",
      "[27,   200] loss: 0.111\n",
      "[27,   400] loss: 0.099\n",
      "[27,   600] loss: 0.100\n",
      "[28,   200] loss: 0.107\n",
      "[28,   400] loss: 0.049\n",
      "[28,   600] loss: 0.110\n",
      "[29,   200] loss: 0.075\n",
      "[29,   400] loss: 0.086\n",
      "[29,   600] loss: 0.064\n",
      "[30,   200] loss: 0.099\n",
      "[30,   400] loss: 0.077\n",
      "[30,   600] loss: 0.070\n",
      "[31,   200] loss: 0.053\n",
      "[31,   400] loss: 0.048\n",
      "[31,   600] loss: 0.069\n",
      "[32,   200] loss: 0.047\n",
      "[32,   400] loss: 0.110\n",
      "[32,   600] loss: 0.128\n",
      "[33,   200] loss: 0.066\n",
      "[33,   400] loss: 0.087\n",
      "[33,   600] loss: 0.101\n",
      "[34,   200] loss: 0.088\n",
      "[34,   400] loss: 0.056\n",
      "[34,   600] loss: 0.062\n",
      "[35,   200] loss: 0.046\n",
      "[35,   400] loss: 0.094\n",
      "[35,   600] loss: 0.082\n",
      "[36,   200] loss: 0.042\n",
      "[36,   400] loss: 0.039\n",
      "[36,   600] loss: 0.055\n",
      "[37,   200] loss: 0.080\n",
      "[37,   400] loss: 0.079\n",
      "[37,   600] loss: 0.122\n",
      "[38,   200] loss: 0.062\n",
      "[38,   400] loss: 0.072\n",
      "[38,   600] loss: 0.093\n",
      "[39,   200] loss: 0.033\n",
      "[39,   400] loss: 0.110\n",
      "[39,   600] loss: 0.123\n",
      "[40,   200] loss: 0.088\n",
      "[40,   400] loss: 0.073\n",
      "[40,   600] loss: 0.099\n",
      "[41,   200] loss: 0.054\n",
      "[41,   400] loss: 0.069\n",
      "[41,   600] loss: 0.096\n",
      "[42,   200] loss: 0.048\n",
      "[42,   400] loss: 0.089\n",
      "[42,   600] loss: 0.075\n",
      "[43,   200] loss: 0.082\n",
      "[43,   400] loss: 0.040\n",
      "[43,   600] loss: 0.075\n",
      "[44,   200] loss: 0.054\n",
      "[44,   400] loss: 0.093\n",
      "[44,   600] loss: 0.042\n",
      "[45,   200] loss: 0.052\n",
      "[45,   400] loss: 0.068\n",
      "[45,   600] loss: 0.066\n",
      "Finished Training\n"
     ]
    }
   ],
   "source": [
    "for epoch in range(45):\n",
    "    # trainning\n",
    "    ave_loss = 0\n",
    "    for i,data in enumerate(trainloader,0):\n",
    "        inputs, label = data\n",
    "        inputs, label = inputs.cuda(), label.cuda()\n",
    "        optimizer.zero_grad()\n",
    "        out = model(inputs)\n",
    "        loss = criterion(out,label)\n",
    "        loss.backward()\n",
    "        optimizer.step()\n",
    "        ave_loss+= loss.item()\n",
    "        if i % 200 == 199:    # print every 200 mini-batches\n",
    "            print('[%d, %5d] loss: %.3f' %\n",
    "                  (epoch + 1, i + 1, ave_loss / 200))\n",
    "            ave_loss = 0.0\n",
    "print(\"Finished Training\")\n"
   ]
  },
  {
   "cell_type": "code",
   "execution_count": 65,
   "metadata": {},
   "outputs": [
    {
     "name": "stdout",
     "output_type": "stream",
     "text": [
      "10000\n",
      "9867\n",
      "98.67\n"
     ]
    }
   ],
   "source": [
    "correct = 0\n",
    "total = 0\n",
    "with torch.no_grad():\n",
    "    for data in testloader:\n",
    "        images, labels = data\n",
    "        if use_cuda:\n",
    "            images, labels = images.cuda(), labels.cuda()\n",
    "        outputs = model(images)\n",
    "        _, predicted = torch.max(outputs.data, 1)\n",
    "        total += labels.size(0)\n",
    "        correct += (predicted == labels).sum().item()\n",
    "print(total)\n",
    "print(correct)\n",
    "print(100 * correct / total)"
   ]
  },
  {
   "cell_type": "code",
   "execution_count": null,
   "metadata": {},
   "outputs": [],
   "source": []
  },
  {
   "cell_type": "code",
   "execution_count": null,
   "metadata": {},
   "outputs": [],
   "source": []
  }
 ],
 "metadata": {
  "kernelspec": {
   "display_name": "Python 3",
   "language": "python",
   "name": "python3"
  },
  "language_info": {
   "codemirror_mode": {
    "name": "ipython",
    "version": 3
   },
   "file_extension": ".py",
   "mimetype": "text/x-python",
   "name": "python",
   "nbconvert_exporter": "python",
   "pygments_lexer": "ipython3",
   "version": "3.6.5"
  }
 },
 "nbformat": 4,
 "nbformat_minor": 2
}
