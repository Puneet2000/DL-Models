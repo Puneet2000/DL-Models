{
 "cells": [
  {
   "cell_type": "code",
   "execution_count": 1,
   "metadata": {},
   "outputs": [],
   "source": [
    "import torch\n",
    "import torchvision\n",
    "import os\n",
    "import numpy as np\n",
    "import torchvision.transforms as transforms\n",
    "root = './data'\n",
    "if not os.path.exists(root):\n",
    "    os.mkdir(root)"
   ]
  },
  {
   "cell_type": "code",
   "execution_count": 8,
   "metadata": {},
   "outputs": [],
   "source": [
    "transform = transforms.Compose([transforms.ToTensor(),transforms.Normalize((0.5,),(1.0,))])\n",
    "trainset = torchvision.datasets.MNIST(root=root, train=False,transform=transform, download=True)\n",
    "trainloader = torch.utils.data.DataLoader(trainset, batch_size=500,\n",
    "                                          shuffle=True, num_workers=2)\n",
    "testset = torchvision.datasets.MNIST(root=root, train=False, transform=transform, download=True)\n",
    "testloader = torch.utils.data.DataLoader(testset, batch_size=500,\n",
    "                                         shuffle=False, num_workers=2)\n",
    "classes = ('0','1','2','3','4','5','6','7','8','9')\n",
    "#print(len(trainset))\n",
    "#print(len(testset))"
   ]
  },
  {
   "cell_type": "code",
   "execution_count": 3,
   "metadata": {},
   "outputs": [
    {
     "name": "stdout",
     "output_type": "stream",
     "text": [
      "tensor([7, 4, 0, 9, 1, 3, 6, 1, 7, 0, 2, 2, 1, 5, 2, 7, 0, 8, 8, 9, 3, 6, 2, 4,\n",
      "        7, 4, 2, 1, 9, 9, 0, 9, 4, 9, 3, 3, 3, 8, 7, 9, 2, 2, 8, 3, 7, 6, 1, 1,\n",
      "        2, 4, 0, 8, 3, 4, 3, 5, 4, 0, 2, 7, 7, 5, 9, 4, 1, 6, 3, 5, 1, 3, 6, 0,\n",
      "        8, 8, 4, 3, 8, 8, 2, 7, 4, 2, 3, 0, 1, 3, 0, 3, 3, 5, 2, 5, 4, 0, 4, 6,\n",
      "        7, 9, 1, 1, 4, 1, 0, 0, 2, 5, 9, 6, 1, 8, 5, 7, 5, 8, 3, 9, 8, 0, 0, 0,\n",
      "        1, 0, 2, 3, 2, 9, 4, 4, 1, 9, 2, 6, 3, 6, 1, 3, 1, 6, 3, 3, 9, 3, 3, 1,\n",
      "        9, 9, 4, 8, 4, 2, 5, 0, 1, 8, 8, 0, 8, 6, 1, 2, 9, 3, 6, 5, 8, 9, 0, 2,\n",
      "        2, 6, 9, 0, 3, 3, 4, 9, 5, 8, 1, 4, 3, 4, 3, 5, 3, 8, 3, 3, 3, 7, 1, 1,\n",
      "        5, 7, 0, 5, 7, 4, 7, 9, 8, 6, 9, 0, 2, 1, 8, 0, 3, 8, 5, 4, 2, 7, 6, 1,\n",
      "        8, 7, 1, 3, 5, 2, 0, 3, 4, 5, 1, 6, 1, 6, 6, 7, 5, 7, 5, 6, 3, 3, 3, 4,\n",
      "        2, 7, 4, 8, 2, 8, 2, 2, 6, 8, 1, 2, 2, 6, 3, 9, 4, 0, 9, 1, 7, 9, 2, 1,\n",
      "        2, 1, 0, 0, 9, 4, 7, 2, 3, 4, 5, 9, 0, 1, 0, 9, 6, 1, 8, 6, 0, 4, 7, 9,\n",
      "        1, 6, 3, 0, 1, 6, 1, 7, 3, 8, 5, 4, 0, 2, 5, 3, 1, 1, 5, 1, 3, 8, 2, 3,\n",
      "        9, 6, 6, 3, 4, 1, 8, 5, 4, 5, 3, 0, 7, 1, 2, 4, 7, 8, 4, 8, 6, 4, 3, 7,\n",
      "        7, 4, 1, 4, 3, 4, 2, 7, 8, 7, 2, 1, 0, 7, 4, 5, 3, 8, 1, 6, 0, 7, 9, 5,\n",
      "        7, 1, 1, 6, 5, 3, 1, 5, 3, 9, 2, 9, 9, 9, 1, 6, 0, 7, 3, 4, 0, 4, 3, 4,\n",
      "        1, 5, 4, 1, 7, 5, 5, 3, 5, 6, 5, 9, 2, 8, 3, 1, 2, 1, 4, 1, 1, 3, 8, 9,\n",
      "        0, 5, 8, 3, 9, 3, 8, 5, 3, 8, 2, 7, 7, 4, 4, 2, 1, 1, 9, 2, 0, 3, 3, 9,\n",
      "        0, 3, 6, 2, 9, 0, 3, 9, 0, 0, 0, 0, 0, 5, 6, 4, 4, 8, 4, 6, 6, 4, 2, 7,\n",
      "        6, 1, 7, 2, 5, 5, 5, 5, 1, 1, 4, 9, 5, 6, 4, 1, 2, 2, 3, 3, 7, 3, 8, 0,\n",
      "        7, 1, 4, 5, 0, 1, 5, 1, 6, 8, 3, 7, 3, 0, 2, 6, 7, 9, 6, 3, 9, 7, 7, 4,\n",
      "        9, 1, 8, 4, 0, 1, 1, 7, 2, 7, 1, 3, 7, 4, 8, 5, 8, 1, 2, 7, 2, 1, 2, 8,\n",
      "        2, 1, 0, 7, 0, 1, 8, 0, 8, 9, 5, 5, 9, 5, 3, 5, 5, 5, 7, 2, 3, 0, 5, 1,\n",
      "        3, 7, 0, 4, 5, 8, 6, 8, 7, 4, 2, 4, 6, 9, 3, 3, 4, 7, 4, 8, 7, 5, 6, 3,\n",
      "        2, 7, 0, 4, 0, 2, 9, 2, 1, 2, 4, 6, 3, 9, 5, 2, 2, 5, 3, 5, 1, 5, 1, 8,\n",
      "        3, 2, 2, 2, 5, 3, 9, 8, 9, 3, 6, 7, 5, 7, 9, 4, 7, 0, 1, 9, 8, 6, 4, 0,\n",
      "        9, 3, 8, 2, 7, 9, 0, 7, 4, 5, 3, 4, 4, 3, 8, 4, 3, 7, 5, 7, 1, 6, 8, 3,\n",
      "        2, 3, 7, 9, 3, 5, 6, 9, 7, 9, 5, 2, 1, 9, 2, 2, 7, 3, 6, 1, 6, 3, 8, 3,\n",
      "        0, 8, 9, 3, 3, 7, 4, 0, 1, 1, 9, 3, 5, 9, 6, 8, 1, 0, 1, 6, 2, 4, 1, 3,\n",
      "        4, 6, 6, 1, 5, 3, 5, 3, 2, 0, 7, 9, 1, 6, 9, 9, 2, 8, 5, 4, 5, 2, 5, 6,\n",
      "        4, 6, 9, 1, 0, 4, 8, 0, 3, 5, 0, 4, 7, 8, 1, 5, 1, 4, 3, 8, 2, 7, 7, 8,\n",
      "        5, 7, 0, 5, 5, 8, 4, 4, 7, 1, 2, 8, 6, 3, 4, 3, 3, 6, 0, 9, 9, 7, 4, 4,\n",
      "        2, 2, 9, 7, 3, 7, 1, 3, 4, 0, 4, 9, 0, 0, 1, 2, 2, 0, 6, 3, 3, 0, 6, 4,\n",
      "        1, 0, 6, 5, 8, 1, 5, 0, 9, 4, 0, 3, 5, 4, 7, 5, 7, 5, 8, 1, 6, 2, 4, 3,\n",
      "        8, 9, 2, 4, 2, 7, 2, 2, 5, 4, 0, 8, 7, 2, 7, 2, 5, 1, 9, 7, 9, 0, 5, 9,\n",
      "        3, 3, 9, 0, 7, 5, 2, 2, 0, 6, 6, 5, 3, 6, 2, 8, 9, 8, 1, 2, 3, 9, 4, 0,\n",
      "        0, 5, 7, 2, 9, 9, 6, 6, 8, 7, 1, 1, 9, 7, 8, 4, 6, 7, 2, 8, 3, 1, 7, 7,\n",
      "        8, 4, 3, 4, 2, 9, 2, 0, 0, 0, 6, 4, 1, 6, 1, 5, 2, 5, 8, 5, 3, 4, 6, 5,\n",
      "        6, 4, 6, 6, 5, 1, 7, 3, 1, 1, 9, 3, 8, 8, 8, 5, 0, 2, 7, 0, 0, 0, 5, 0,\n",
      "        7, 6, 3, 8, 9, 7, 6, 7, 2, 4, 4, 3, 7, 1, 2, 8, 8, 9, 4, 7, 0, 0, 7, 1,\n",
      "        0, 9, 9, 6, 1, 1, 7, 1, 4, 9, 4, 3, 7, 5, 4, 2, 3, 1, 2, 5, 5, 4, 8, 9,\n",
      "        0, 5, 8, 4, 8, 1, 4, 8, 2, 6, 1, 9, 0, 9, 5, 1])\n"
     ]
    }
   ],
   "source": [
    "import matplotlib.pyplot as plt\n",
    "import numpy as np\n",
    "def imshow(img):\n",
    "    img = img + 0.5     # unnormalize\n",
    "    npimg = img.numpy()\n",
    "    plt.imshow(np.transpose(npimg, (1, 2, 0)))\n",
    "\n",
    "dataiter = iter(trainloader)\n",
    "images, labels = dataiter.next()\n",
    "print(labels)\n",
    "\n",
    "# show images\n",
    "imshow(torchvision.utils.make_grid(images))\n",
    "# print labels\n",
    "#print(' '.join('%5s' % classes[labels[j]] for j in range(4)))"
   ]
  },
  {
   "cell_type": "code",
   "execution_count": 9,
   "metadata": {},
   "outputs": [],
   "source": [
    "import torch.nn as nn\n",
    "import torch.nn.functional as F\n",
    "class LeNet(nn.Module):\n",
    "    def __init__(self):\n",
    "        super(LeNet, self).__init__()\n",
    "        self.conv1 = nn.Conv2d(1, 20, 5, 1)\n",
    "        self.conv2 = nn.Conv2d(20, 50, 5, 1)\n",
    "        self.fc1 = nn.Linear(4*4*50, 500)\n",
    "        self.fc2 = nn.Linear(500, 10)\n",
    "\n",
    "    def forward(self, x):\n",
    "        x = F.relu(self.conv1(x))\n",
    "        x = F.max_pool2d(x, 2, 2)\n",
    "        x = F.relu(self.conv2(x))\n",
    "        x = F.max_pool2d(x, 2, 2)\n",
    "        x = x.view(-1, 4*4*50)\n",
    "        x = F.relu(self.fc1(x))\n",
    "        x = self.fc2(x)\n",
    "        return x\n",
    "    \n",
    "    def name(self):\n",
    "        return \"LeNet\"\n",
    "        "
   ]
  },
  {
   "cell_type": "code",
   "execution_count": null,
   "metadata": {},
   "outputs": [],
   "source": []
  },
  {
   "cell_type": "code",
   "execution_count": 10,
   "metadata": {},
   "outputs": [],
   "source": [
    "import torch.optim as optim\n",
    "model = LeNet()\n",
    "optimizer = optim.Adam(model.parameters(), lr=0.01)\n",
    "criterion = nn.CrossEntropyLoss()"
   ]
  },
  {
   "cell_type": "code",
   "execution_count": 11,
   "metadata": {},
   "outputs": [
    {
     "name": "stdout",
     "output_type": "stream",
     "text": [
      "Finished Training\n"
     ]
    }
   ],
   "source": [
    "for epoch in range(10):\n",
    "    # trainning\n",
    "    ave_loss = 0\n",
    "    for i,data in enumerate(trainloader,0):\n",
    "        inputs, label = data\n",
    "        optimizer.zero_grad()\n",
    "        out = model(inputs)\n",
    "        loss = criterion(out,label)\n",
    "        loss.backward()\n",
    "        optimizer.step()\n",
    "        ave_loss+= loss.item()\n",
    "        if i % 200 == 199:    # print every 200 mini-batches\n",
    "            print('[%d, %5d] loss: %.3f' %\n",
    "                  (epoch + 1, i + 1, ave_loss / 200))\n",
    "            ave_loss = 0.0\n",
    "print(\"Finished Training\")\n"
   ]
  },
  {
   "cell_type": "code",
   "execution_count": 12,
   "metadata": {},
   "outputs": [
    {
     "name": "stdout",
     "output_type": "stream",
     "text": [
      "10000\n",
      "9949\n",
      "99.49\n"
     ]
    }
   ],
   "source": [
    "correct = 0\n",
    "total = 0\n",
    "with torch.no_grad():\n",
    "    for data in testloader:\n",
    "        images, labels = data\n",
    "        outputs = model(images)\n",
    "        _, predicted = torch.max(outputs.data, 1)\n",
    "        total += labels.size(0)\n",
    "        correct += (predicted == labels).sum().item()\n",
    "print(total)\n",
    "print(correct)\n",
    "print(100 * correct / total)"
   ]
  },
  {
   "cell_type": "code",
   "execution_count": null,
   "metadata": {},
   "outputs": [],
   "source": []
  },
  {
   "cell_type": "code",
   "execution_count": null,
   "metadata": {},
   "outputs": [],
   "source": []
  },
  {
   "cell_type": "code",
   "execution_count": null,
   "metadata": {},
   "outputs": [],
   "source": []
  },
  {
   "cell_type": "code",
   "execution_count": null,
   "metadata": {},
   "outputs": [],
   "source": []
  },
  {
   "cell_type": "code",
   "execution_count": null,
   "metadata": {},
   "outputs": [],
   "source": []
  },
  {
   "cell_type": "code",
   "execution_count": null,
   "metadata": {},
   "outputs": [],
   "source": []
  }
 ],
 "metadata": {
  "kernelspec": {
   "display_name": "Python 3",
   "language": "python",
   "name": "python3"
  },
  "language_info": {
   "codemirror_mode": {
    "name": "ipython",
    "version": 3
   },
   "file_extension": ".py",
   "mimetype": "text/x-python",
   "name": "python",
   "nbconvert_exporter": "python",
   "pygments_lexer": "ipython3",
   "version": "3.6.5"
  }
 },
 "nbformat": 4,
 "nbformat_minor": 2
}
