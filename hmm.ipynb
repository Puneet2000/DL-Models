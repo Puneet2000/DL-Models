{
 "cells": [
  {
   "cell_type": "code",
   "execution_count": 1,
   "metadata": {},
   "outputs": [],
   "source": [
    "import numpy as np"
   ]
  },
  {
   "cell_type": "code",
   "execution_count": null,
   "metadata": {},
   "outputs": [],
   "source": [
    "class HMM:\n",
    "    def __init__(self,A,B,Q,N,M,T,O):\n",
    "        self.A = A\n",
    "        self.B = B\n",
    "        self.Q = Q\n",
    "        self.N = N\n",
    "        self.M = M\n",
    "        self.T = T\n",
    "        self.O =O\n",
    "    \n",
    "    def forward(self):\n",
    "        alphas = np.zeros(shape = (self.N+2,self.T+1),dtype=float)\n",
    "        for state in range(1,self.N +1):\n",
    "            alphas[state][1] =self.A[0][state]*self.B[state][self.O[1]]\n",
    "        for t in range(2,self.T+1):\n",
    "            for state in range(1,self.N+1):\n",
    "                    alphas[state][t] = sum(alphas[s][t-1]*self.A[s][state]*self.B[state][self.O[t]] for s in range(1,self.N+1))\n",
    "        alphas[self.N+1][self.T] = sum(alphas[state][self.T]*self.A[state][self.N+1] for state in range(1,self.N+1))\n",
    "        return alphas , alphas[self.N+1][self.T]\n",
    "    \n",
    "    def follow_backpointers(self,vet,start):\n",
    "        pointer = start[0]\n",
    "        seq = [pointer,self.N+1]\n",
    "        for t in reversed(range(1,))\n",
    "    \n",
    "    def viterbi(self):\n",
    "        vet = np.zeros(shape=(self.N+2,self.T+1),dtype=float)\n",
    "        backpointer = np.zeros(shape=(self.N+2,self.T+1),dtype=float)\n",
    "        for j in range(1,self.N+1):\n",
    "            vet[j][1] = [self.A[0][j]*self.B[j][self.O[1]]]\n",
    "        for t in range(2,self.T+1):\n",
    "            for state in range(1,self.N+1):\n",
    "                ep = self.B[state][self.O[t]]\n",
    "                last = [(old,vet[old][t-1][0]*self.A[old][state]*ep) for old in range(1,self.N+1)]\n",
    "                highest = max(last,key=lambda p: p[1])[1]\n",
    "                backs = [s for s,val in last if val == highest]\n",
    "                vet[state][t] = (highest,backs)\n",
    "        \n",
    "        last = [(old,vet[old][self.T][0]*self.A[old][self.N+1]) for old in range(1,self.N+1)]\n",
    "        highest = max(last,key=lambda p: p[1])[1]\n",
    "        backs = [s for s,val in last if val == highest]\n",
    "        seq = self.follow_backpointers(vet,backs)                                  \n",
    "        return backpointer\n",
    "    \n",
    "    \n",
    "    def backward(self):\n",
    "        betas = np.zeros(shape = (self.N+2,self.T+1),dtype=float)\n",
    "        for state in range(1,self.N +1):\n",
    "            betas[state][self.T] =self.A[self.N+1][state]\n",
    "        for t in range(self.T-1,0,-1):\n",
    "            for state in range(1,self.N+1):\n",
    "                    betas[state][t] = sum(betas[s][t+1]*self.A[state][s]*self.B[state][self.O[t+1]] for s in range(1,self.N+1))\n",
    "        betas[0][1] = sum(betas[state][1]*self.A[0][state]*self.B[state][self.O[1]] for state in range(1,self.N+1))\n",
    "        return betas , betas[self.N+1][self.T]\n",
    "    \n",
    "    def forward_backward(self):\n",
    "        aplhas , f_prob = self.forward()\n",
    "        betas, b_prob  = self.backward()\n",
    "        \n",
    "        gamma = [None] + [ [0] + [alphas[state][t]*betas[state][t]/f_prob for t in range(1,self.T+1)]\n",
    "                         for state in range(1,self.N+1)]\n",
    "        \n",
    "        transition_prob  = \n",
    "    \n",
    "        \n",
    "        \n",
    "        "
   ]
  }
 ],
 "metadata": {
  "kernelspec": {
   "display_name": "Python 3",
   "language": "python",
   "name": "python3"
  },
  "language_info": {
   "codemirror_mode": {
    "name": "ipython",
    "version": 3
   },
   "file_extension": ".py",
   "mimetype": "text/x-python",
   "name": "python",
   "nbconvert_exporter": "python",
   "pygments_lexer": "ipython3",
   "version": "3.6.5"
  }
 },
 "nbformat": 4,
 "nbformat_minor": 2
}
